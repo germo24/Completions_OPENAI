{
 "cells": [
  {
   "cell_type": "markdown",
   "metadata": {},
   "source": [
    "# API Method"
   ]
  },
  {
   "cell_type": "code",
   "execution_count": 2,
   "metadata": {},
   "outputs": [
    {
     "name": "stdout",
     "output_type": "stream",
     "text": [
      "Requirement already satisfied: openai in c:\\users\\germa\\appdata\\local\\packages\\pythonsoftwarefoundation.python.3.11_qbz5n2kfra8p0\\localcache\\local-packages\\python311\\site-packages (1.3.8)Note: you may need to restart the kernel to use updated packages.\n",
      "\n",
      "Requirement already satisfied: anyio<5,>=3.5.0 in c:\\users\\germa\\appdata\\local\\packages\\pythonsoftwarefoundation.python.3.11_qbz5n2kfra8p0\\localcache\\local-packages\\python311\\site-packages (from openai) (4.1.0)\n",
      "Requirement already satisfied: distro<2,>=1.7.0 in c:\\users\\germa\\appdata\\local\\packages\\pythonsoftwarefoundation.python.3.11_qbz5n2kfra8p0\\localcache\\local-packages\\python311\\site-packages (from openai) (1.8.0)\n",
      "Requirement already satisfied: httpx<1,>=0.23.0 in c:\\users\\germa\\appdata\\local\\packages\\pythonsoftwarefoundation.python.3.11_qbz5n2kfra8p0\\localcache\\local-packages\\python311\\site-packages (from openai) (0.25.2)\n",
      "Requirement already satisfied: pydantic<3,>=1.9.0 in c:\\users\\germa\\appdata\\local\\packages\\pythonsoftwarefoundation.python.3.11_qbz5n2kfra8p0\\localcache\\local-packages\\python311\\site-packages (from openai) (2.5.1)\n",
      "Requirement already satisfied: sniffio in c:\\users\\germa\\appdata\\local\\packages\\pythonsoftwarefoundation.python.3.11_qbz5n2kfra8p0\\localcache\\local-packages\\python311\\site-packages (from openai) (1.3.0)\n",
      "Requirement already satisfied: tqdm>4 in c:\\users\\germa\\appdata\\local\\packages\\pythonsoftwarefoundation.python.3.11_qbz5n2kfra8p0\\localcache\\local-packages\\python311\\site-packages (from openai) (4.66.1)\n",
      "Requirement already satisfied: typing-extensions<5,>=4.5 in c:\\users\\germa\\appdata\\local\\packages\\pythonsoftwarefoundation.python.3.11_qbz5n2kfra8p0\\localcache\\local-packages\\python311\\site-packages (from openai) (4.8.0)\n",
      "Requirement already satisfied: idna>=2.8 in c:\\users\\germa\\appdata\\local\\packages\\pythonsoftwarefoundation.python.3.11_qbz5n2kfra8p0\\localcache\\local-packages\\python311\\site-packages (from anyio<5,>=3.5.0->openai) (3.4)\n",
      "Requirement already satisfied: certifi in c:\\users\\germa\\appdata\\local\\packages\\pythonsoftwarefoundation.python.3.11_qbz5n2kfra8p0\\localcache\\local-packages\\python311\\site-packages (from httpx<1,>=0.23.0->openai) (2023.7.22)\n",
      "Requirement already satisfied: httpcore==1.* in c:\\users\\germa\\appdata\\local\\packages\\pythonsoftwarefoundation.python.3.11_qbz5n2kfra8p0\\localcache\\local-packages\\python311\\site-packages (from httpx<1,>=0.23.0->openai) (1.0.2)\n",
      "Requirement already satisfied: h11<0.15,>=0.13 in c:\\users\\germa\\appdata\\local\\packages\\pythonsoftwarefoundation.python.3.11_qbz5n2kfra8p0\\localcache\\local-packages\\python311\\site-packages (from httpcore==1.*->httpx<1,>=0.23.0->openai) (0.14.0)\n",
      "Requirement already satisfied: annotated-types>=0.4.0 in c:\\users\\germa\\appdata\\local\\packages\\pythonsoftwarefoundation.python.3.11_qbz5n2kfra8p0\\localcache\\local-packages\\python311\\site-packages (from pydantic<3,>=1.9.0->openai) (0.6.0)\n",
      "Requirement already satisfied: pydantic-core==2.14.3 in c:\\users\\germa\\appdata\\local\\packages\\pythonsoftwarefoundation.python.3.11_qbz5n2kfra8p0\\localcache\\local-packages\\python311\\site-packages (from pydantic<3,>=1.9.0->openai) (2.14.3)\n",
      "Requirement already satisfied: colorama in c:\\users\\germa\\appdata\\local\\packages\\pythonsoftwarefoundation.python.3.11_qbz5n2kfra8p0\\localcache\\local-packages\\python311\\site-packages (from tqdm>4->openai) (0.4.6)\n"
     ]
    }
   ],
   "source": [
    "%pip install openai\n",
    "import openai\n",
    "import os\n",
    "\n",
    "\n",
    "openai.api_key = ''"
   ]
  },
  {
   "cell_type": "code",
   "execution_count": 4,
   "metadata": {},
   "outputs": [],
   "source": [
    "import openai\n",
    "\n",
    "def get_completion(prompt, model=\"gpt-3.5-turbo\"):\n",
    "    response = openai.Completion.create(\n",
    "        engine=model,\n",
    "        prompt=prompt,\n",
    "        temperature=0.3,    # Ajusta según tus preferencias\n",
    "        max_tokens=150       # Establece el límite de tokens en la respuesta\n",
    "    )\n",
    "    return response.choices[0].text.strip()"
   ]
  },
  {
   "cell_type": "code",
   "execution_count": 2,
   "metadata": {},
   "outputs": [
    {
     "name": "stdout",
     "output_type": "stream",
     "text": [
      "Recomendación 1: \n",
      "    Basado en la Satisfacción General, si la satisfacción general se mantiene o crece, podemos celebrar el progreso alcanzado en el equipo. En caso de que la satisfacción general haya disminuido, es importante identificar las posibles causas. Recomendamos evaluar los valores de los 4 cuadrantes principales: Self Satisfaction, Work Engagement, Team Collaboration, y Workspace Well-Being. Esto nos permitirá comprender mejor las áreas de mejora y ofrecer consejos para superar los desafíos actuales.\n",
      "\n",
      "Recomendación 2: \n",
      "    Analizando las diferencias entre los 4 cuadrantes (Self Satisfaction, Work Engagement, Team Collaboration y Workspace Well-Being), identificamos aquel con la mayor caída o menor crecimiento. Recomendamos enfocar los esfuerzos del equipo en mejorar ese aspecto específico, implementando acciones que impulsen el crecimiento y la colaboración en ese ámbito. Al fortalecer este cuadrante, podremos optimizar el funcionamiento general del equipo y promover un mayor bienestar en el entorno de trabajo.\n"
     ]
    }
   ],
   "source": [
    "# SHORT RECOMMENDATION EJ.1\n",
    "\n",
    "import openai\n",
    "\n",
    "# Ejemplo de uso\n",
    "gs_difference = 0.6\n",
    "\n",
    "quadrant_differences = {\n",
    "    'self_satisfaction': 0.01,\n",
    "    'work_engagement': 0.2,\n",
    "    'team_collaboration': -0.1,\n",
    "    'workspace_well_being': -0.2\n",
    "}\n",
    "\n",
    "prompt = f\"\"\"\n",
    "    GS = {gs_difference}\n",
    "    \n",
    "    'Vamos a realizar 2 recomendaciones personalizadas para equipos de trabajo.\n",
    "\n",
    "    1 - Recomendación basada en la Satisfacción General. \n",
    "\n",
    "    La satisfacción general será una medida compuesta por los 4 cuadrantes principales que usamos de medición (Self Satisfaction, Work Engagment, Team Collaboration, Workspace Well-Being) y un quinto coheficiente que representa todos los comentarios que se dieron a lo largo de la semana, todos cuadrantes con coheficientes entre 0 y 1, buscando tener una medición de 0% a 100% sobre cada uno de los mismos.\n",
    "\n",
    "    - Si la satisfacción general se mantiene o crece se mandará un mensaje positivo resaltando cuánto se creció respecto al día anterior. En caso de que sea negativa y, por tanto, haya caído debemos mandar un aviso sobre esto y dar consejos sobre por qué podría ser, teniendo en cuenta los valores de los 4 cuadrantes generales que daremos adelante.\n",
    "\n",
    "    Sabrás si es negativa, positiva o neutral porque mandaremos una variable denominada 'GS' que será la diferencia entre el día anterior y el actual.\n",
    "\n",
    "    Siendo:\n",
    "    * Neutral: GS igual o cercana a 0 \n",
    "    * Positivo: GS mayor a 0\n",
    "    * Negativo: GS menor a 0\n",
    "\n",
    "    2 - Mayor caída o menor crecimiento entre los 4 cuadrantes\n",
    "\n",
    "    Aquí te pasaremos un diccionario con los cuatro cuadrantes y sus diferencias entre hoy y el día anterior:\n",
    "\n",
    "    diff_c = {{\n",
    "        self_satisfaction: {quadrant_differences['self_satisfaction']},\n",
    "        work_engagement: {quadrant_differences['work_engagement']},\n",
    "        team_collaboration: {quadrant_differences['team_collaboration']},\n",
    "        workspace_well_being: {quadrant_differences['workspace_well_being']}\n",
    "    }}\n",
    "\n",
    "    Tras comparar los 4 cuadrantes, verás cuál es el más bajo y darás una recomendación sobre cómo podría el equipo mejorar en ese aspecto.\n",
    "    \n",
    "    Quiero que devuelvas únicamente las 2 recomendaciones en un diccionario y cada recomendación tenga un máximo de apróximadamente 3 renglones'\n",
    "    \"\"\"\n",
    "\n",
    "import openai\n",
    "\n",
    "completion = openai.chat.completions.create(\n",
    "    model=\"gpt-3.5-turbo\",\n",
    "    messages=[\n",
    "        {\n",
    "            \"role\": \"user\",\n",
    "            \"content\": prompt,\n",
    "        },\n",
    "    ],\n",
    ")\n",
    "print(completion.choices[0].message.content)"
   ]
  },
  {
   "cell_type": "code",
   "execution_count": 4,
   "metadata": {},
   "outputs": [
    {
     "name": "stdout",
     "output_type": "stream",
     "text": [
      "{\n",
      "  \"1\": \"Tu equipo tiene una satisfacción general ligeramente negativa. Es importante tomar medidas para mejorar el compromiso y la colaboración en el trabajo, así como el bienestar en el espacio de trabajo. Considera realizar actividades de team building y crear un ambiente positivo para aumentar la satisfacción general.\",\n",
      "  \"2\": \"Enfócate en mejorar el nivel de compromiso en el trabajo. Si bien los demás cuadrantes están relativamente estables, el crecimiento en el compromiso puede tener un impacto significativo en la productividad y satisfacción del equipo. Fomenta la autonomía, brinda reconocimiento y promueve el desarrollo profesional para aumentar el compromiso de tu equipo.\"\n",
      "}\n"
     ]
    }
   ],
   "source": [
    "# SHORT RECOMMENDATION EJ.2\n",
    "\n",
    "import openai\n",
    "\n",
    "gs_difference = -0.09\n",
    "\n",
    "quadrant_differences = {\n",
    "    'self_satisfaction': 0.01,\n",
    "    'work_engagement': 0.2,\n",
    "    'team_collaboration': -0.1,\n",
    "    'workspace_well_being': -0.1\n",
    "}\n",
    "\n",
    "prompt = f\"\"\"\n",
    "\n",
    "'Vamos a generar 2 recomendaciones personalizadas para equipos de trabajo.\n",
    "\n",
    "1. Recomendación basada en la Satisfacción General:\n",
    "   - La satisfacción general se calcula con coeficientes de los cuadrantes (Self Satisfaction, Work Engagement, Team Collaboration, Workspace Well-Being) y un quinto coeficiente que considera todos los comentarios.\n",
    "   - Si GS es neutral (cerca de 0), positivo (mayor a 0), o negativo (menor a 0), proporcionaremos un mensaje correspondiente aviso al ser negativo y felicidad mientras más positivo.\n",
    "\n",
    "Diferencia de General Satisfaction = {gs_difference}\n",
    "\n",
    "\n",
    "2. Mayor caída o menor crecimiento entre los 4 cuadrantes:\n",
    "   - Aquí tienes las diferencias entre hoy y el día anterior en cada cuadrante.\n",
    "\n",
    "        Self Satisfaction: {quadrant_differences['self_satisfaction']},\n",
    "        Work Engagement: {quadrant_differences['work_engagement']},\n",
    "        Team Collaboration: {quadrant_differences['team_collaboration']},\n",
    "        Workspace Well-Being: {quadrant_differences['workspace_well_being']}\n",
    "\n",
    "    Tras comparar los 4 cuadrantes, verás cuál o cuáles son los más bajos y darás una recomendación sobre cómo podría el equipo mejorar únicamente en ese aspecto específico.\n",
    "    \n",
    "    Recuerda que las recomendaciones deben ser personalizadas y creativas pero coherentes a lo que hablamos aquí, si puedes usa las métricas\n",
    "    Cada recomendación tiene una longitud máxima de 3 renglones.\n",
    "    El formato será JSON y usaras las key 1 y 2.\n",
    "'\n",
    "    \"\"\"\n",
    "\n",
    "import openai\n",
    "\n",
    "completion = openai.chat.completions.create(\n",
    "    model=\"gpt-3.5-turbo\",\n",
    "    messages=[\n",
    "        {\n",
    "            \"role\": \"user\",\n",
    "            \"content\": prompt,\n",
    "        },\n",
    "    ],\n",
    ")\n",
    "print(completion.choices[0].message.content)\n"
   ]
  },
  {
   "cell_type": "code",
   "execution_count": 7,
   "metadata": {},
   "outputs": [
    {
     "data": {
      "text/plain": [
       "'Work Space Well-Being'"
      ]
     },
     "execution_count": 7,
     "metadata": {},
     "output_type": "execute_result"
    }
   ],
   "source": [
    "gs_difference = -0.09\n",
    "\n",
    "quadrant_differences = {\n",
    "    'self_satisfaction': 0.01,\n",
    "    'work_engagement': 0.2,\n",
    "    'team_collaboration': -0.1,\n",
    "    'Work Space Well-Being': -0.2\n",
    "}\n",
    "\n",
    "minimo = min(quadrant_differences.values())\n",
    "\n",
    "# Obtener el nombre asociado al valor mínimo\n",
    "name = min(quadrant_differences, key=quadrant_differences.get)\n",
    "name"
   ]
  },
  {
   "cell_type": "code",
   "execution_count": 8,
   "metadata": {},
   "outputs": [
    {
     "name": "stdout",
     "output_type": "stream",
     "text": [
      "{\n",
      "  \"1\": \"¡Felicitaciones por tener una satisfacción general positiva! Continúa manteniendo ese nivel de compromiso y colaboración en el equipo.\",\n",
      "  \"2\": \"Se ha identificado una baja en el Work Space Well-Being. Recomendamos realizar mejoras en el ambiente de trabajo para promover el bienestar del equipo.\" \n",
      "}\n"
     ]
    }
   ],
   "source": [
    "# SHORT RECOMMENDATION (usando mínimo)\n",
    "\n",
    "import openai\n",
    "\n",
    "# Ejemplo de uso\n",
    "gs_difference = -0.09\n",
    "\n",
    "quadrant_differences = {\n",
    "    'self_satisfaction': 0.01,\n",
    "    'work_engagement': 0.2,\n",
    "    'team_collaboration': -0.1,\n",
    "    'Work Space Well-Being': -0.2\n",
    "}\n",
    "\n",
    "\n",
    "prompt = f\"\"\"\n",
    "\n",
    "'Vamos a generar 2 recomendaciones personalizadas para equipos de trabajo.\n",
    "\n",
    "1. Recomendación basada en la Satisfacción General:\n",
    "   - La satisfacción general se calcula con coeficientes de los cuadrantes (Self Satisfaction, Work Engagement, Team Collaboration, Workspace Well-Being) y un quinto coeficiente que considera todos los comentarios.\n",
    "   - Si GS es neutral (cerca de 0), positivo (mayor a 0), o negativo (menor a 0), proporcionaremos un mensaje correspondiente aviso al ser negativo y felicidad mientras más positivo.\n",
    "\n",
    "Diferencia de General Satisfaction = {gs_difference}\n",
    "\n",
    "\n",
    "2. Mayor caída o menor crecimiento entre los 4 cuadrantes:\n",
    "   - Aquí tienes el cuadrante más bajo entre hoy y el día anterior.\n",
    "\n",
    "    {name}: {minimo}\n",
    "\n",
    "    Darás una recomendación sobre cómo podría el equipo mejorar únicamente en ese aspecto específico.\n",
    "    \n",
    "    Recuerda que las recomendaciones deben ser personalizadas y creativas pero coherentes a lo que hablamos aquí, si puedes usa las métricas dadas.\n",
    "    Cada recomendación tiene una longitud máxima de 3 renglones.\n",
    "    El formato será JSON y usaras las key 1 y 2.\n",
    "'\n",
    "    \"\"\"\n",
    "\n",
    "import openai\n",
    "\n",
    "completion = openai.chat.completions.create(\n",
    "    model=\"gpt-3.5-turbo\",\n",
    "    messages=[\n",
    "        {\n",
    "            \"role\": \"user\",\n",
    "            \"content\": prompt,\n",
    "        },\n",
    "    ],\n",
    ")\n",
    "print(completion.choices[0].message.content)"
   ]
  },
  {
   "cell_type": "code",
   "execution_count": 51,
   "metadata": {},
   "outputs": [
    {
     "data": {
      "text/plain": [
       "ChatCompletion(id='chatcmpl-8U1QY4LwNyc9txlptOmMAOBt3PKLe', choices=[Choice(finish_reason='stop', index=0, message=ChatCompletionMessage(content='{\\n  \"1\": \"¡Felicidades por tener una satisfacción general positiva! Continúa fomentando la colaboración en equipo y el bienestar en el espacio de trabajo para mantener este buen ambiente.\",\\n  \"2\": \"El cuadrante de Work Space Well-Being ha experimentado una caída. Recomendamos implementar medidas para mejorar el bienestar en el espacio laboral, como proporcionar áreas de descanso y promover la ergonomía en las estaciones de trabajo.\"\\n}', role='assistant', function_call=None, tool_calls=None))], created=1702166018, model='gpt-3.5-turbo-0613', object='chat.completion', system_fingerprint=None, usage=CompletionUsage(completion_tokens=107, prompt_tokens=293, total_tokens=400))"
      ]
     },
     "execution_count": 51,
     "metadata": {},
     "output_type": "execute_result"
    }
   ],
   "source": [
    "completion"
   ]
  },
  {
   "cell_type": "code",
   "execution_count": 3,
   "metadata": {},
   "outputs": [
    {
     "name": "stdout",
     "output_type": "stream",
     "text": [
      "{\n",
      "    \"1\": \"La semana fue desafiante en cuanto a la satisfacción general, con un descenso en la satisfacción propia y en la colaboración en equipo, pero un aumento en el compromiso laboral y el bienestar en el espacio de trabajo.\",\n",
      "    \"2\": {\n",
      "        \"Recomendación 1\": \"Para mejorar la comunicación interna, se sugiere implementar herramientas colaborativas como Slack o Microsoft Teams, y establecer reuniones semanales de seguimiento y retroalimentación.\",\n",
      "        \"Recomendación 2\": \"Para fortalecer el trabajo en equipo, se recomienda realizar actividades de teambuilding como salidas recreativas, almuerzos o juegos virtuales, con el objetivo de fomentar la confianza y la colaboración entre los miembros del equipo.\",\n",
      "        \"Recomendación 3\": \"Para satisfacer las necesidades tecnológicas, se propone evaluar y actualizar el stack tecnológico utilizado, incorporando nuevas herramientas o plataformas que faciliten el trabajo y mejoren la eficiencia del equipo.\",\n",
      "        \"Recomendación 4\": \"Para mejorar el cumplimiento de horarios, se sugiere establecer pautas claras de horarios de trabajo y descansos, y promover una cultura de respeto por los tiempos de cada miembro del equipo.\"\n",
      "    }\n",
      "}\n"
     ]
    }
   ],
   "source": [
    "# GENERAL\n",
    "\n",
    "import openai\n",
    "openai.api_key\n",
    "\n",
    "# Ejemplo de uso\n",
    "gs_difference = 0.2\n",
    "\n",
    "quadrant_differences = {\n",
    "    'self_satisfaction': -0.12,\n",
    "    'work_engagement': 0.2,\n",
    "    'team_collaboration': -0.5,\n",
    "    'workspace_well_being': 0.1\n",
    "}\n",
    "\n",
    "topicos = ['Comunicación']\n",
    "\n",
    "prompt = f\"\"\"\n",
    "\n",
    "    GS = {gs_difference}\n",
    "    \n",
    "    'Vamos a realizar recomendaciones personalizadas para equipos de trabajo:\n",
    "\n",
    "\n",
    "    - La satisfacción general será una medida compuesta por los 4 cuadrantes principales que usamos de medición (Self Satisfaction, Work Engagment, Team Collaboration, Workspace Well-Being) y un quinto coheficiente que representa todos los comentarios que se dieron a lo largo de la semana, todos cuadrantes con coheficientes entre 0 y 1, buscando tener una medición de 0% a 100% sobre cada uno de los mismos.\n",
    "\n",
    "    Sabrás si es negativa, positiva o neutral porque mandaremos una variable denominada 'GS' que será la diferencia entre el día anterior y el actual.\n",
    "\n",
    "    - Diferencia en los 4 cuadrantes mencionados anteriormente entre esta semana y la anterior. A la hora de utilizarlos en la recomendación, deberás darle importancia a los más bajos.\n",
    "    \n",
    "\n",
    "    diff_c = {{\n",
    "        self_satisfaction: {quadrant_differences['self_satisfaction']},\n",
    "        work_engagement: {quadrant_differences['work_engagement']},\n",
    "        team_collaboration: {quadrant_differences['team_collaboration']},\n",
    "        workspace_well_being: {quadrant_differences['workspace_well_being']}\n",
    "    }}\n",
    "    \n",
    "    \n",
    "    \n",
    "    - Los tópicos que más se mencionaron fueron:\n",
    "    'Necesidad de mejorar la comunicación interna' y 'Trabajo en equipo'\n",
    "    \n",
    "    - Los tópicos que se sugirieron para mejorar:\n",
    "    'Stack tecnologico', 'Cumplimiento de horarios', 'Coordinación del equipo', 'Tiempo recreativo'\n",
    "    \n",
    "    Tu devolverás:\n",
    "    \n",
    "    1 - Análisis de la semana\n",
    "    \n",
    "    Usarás las métricas que describen la diferencia de la semana anterior y con la actual para describir cómo fue todo en las distintas áreas. \n",
    "    Máximo 4 renglones.\n",
    "\n",
    "    \n",
    "    2 - 4 recomendaciones personalizadas utilizando las métricas de los cuadrantes y tópicos que se mencionaron.\n",
    "    Quiero que busques soluciones específicas y creativas para cada uno de estos 4 puntos que consideres importante.\n",
    "    Máximo 2 renglones por recomendación.\n",
    "    \n",
    "    El formato será JSON y usaras las key 1 y 2.\n",
    "    '\n",
    "    \"\"\"\n",
    "\n",
    "import openai\n",
    "\n",
    "completion = openai.chat.completions.create(\n",
    "    model=\"gpt-3.5-turbo\",\n",
    "    temperature= 0.9,\n",
    "    messages=[\n",
    "        {\n",
    "            \"role\": \"user\",\n",
    "            \"content\": prompt,\n",
    "        },\n",
    "    ],\n",
    ")\n",
    "print(completion.choices[0].message.content)"
   ]
  },
  {
   "cell_type": "code",
   "execution_count": 56,
   "metadata": {},
   "outputs": [
    {
     "data": {
      "text/plain": [
       "ChatCompletion(id='chatcmpl-8U2kmsShLwPQ3T7qqrK7m1GIhr7g1', choices=[Choice(finish_reason='stop', index=0, message=ChatCompletionMessage(content='{\\n  \"1\": \"Durante esta semana, hemos experimentado una disminución en la satisfacción general del equipo. Aunque el trabajo se ha vuelto más comprometido y hemos mejorado el bienestar en el espacio de trabajo, hemos observado una disminución en la satisfacción personal y la colaboración en equipo. Para mejorar, sugerimos abordar los problemas de comunicación y fortalecer nuestro trabajo en equipo.\",\\n  \"2\": {\\n    \"Recomendación 1\": \"Para mejorar la comunicación, podemos implementar reuniones regulares de equipo donde todos puedan compartir actualizaciones y desafíos. También podemos utilizar herramientas de comunicación en línea para facilitar la comunicación entre los miembros del equipo, incluso fuera del horario laboral.\",\\n    \"Recomendación 2\": \"Para fortalecer nuestro trabajo en equipo, podemos organizar actividades de team building y juegos colaborativos. Además, podemos asignar proyectos grupales que fomenten la colaboración y nos ayuden a conocer mejor las fortalezas individuales de cada miembro del equipo.\",\\n    \"Recomendación 3\": \"Para abordar los problemas relacionados con el cumplimiento de horarios, podemos establecer pautas claras y realistas para las fechas límite y los horarios de trabajo. También podemos implementar herramientas de gestión del tiempo que nos ayuden a realizar un seguimiento de nuestras tareas y garantizar que se completen a tiempo.\",\\n    \"Recomendación 4\": \"Para mejorar la coordinación del equipo, podemos asignar un líder de equipo o facilitador que se encargue de garantizar la comunicación fluida y la coordinación entre los miembros del equipo. También podemos establecer reuniones regulares de seguimiento y revisión del progreso del proyecto.\"\\n  }\\n}', role='assistant', function_call=None, tool_calls=None))], created=1702171116, model='gpt-3.5-turbo-0613', object='chat.completion', system_fingerprint=None, usage=CompletionUsage(completion_tokens=392, prompt_tokens=499, total_tokens=891))"
      ]
     },
     "execution_count": 56,
     "metadata": {},
     "output_type": "execute_result"
    }
   ],
   "source": [
    "completion"
   ]
  }
 ],
 "metadata": {
  "kernelspec": {
   "display_name": "Python 3",
   "language": "python",
   "name": "python3"
  },
  "language_info": {
   "codemirror_mode": {
    "name": "ipython",
    "version": 3
   },
   "file_extension": ".py",
   "mimetype": "text/x-python",
   "name": "python",
   "nbconvert_exporter": "python",
   "pygments_lexer": "ipython3",
   "version": "3.11.7"
  }
 },
 "nbformat": 4,
 "nbformat_minor": 2
}
